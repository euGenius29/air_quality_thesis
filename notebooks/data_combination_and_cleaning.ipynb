{
 "cells": [
  {
   "cell_type": "code",
   "execution_count": 1,
   "id": "34f4a755-0284-4b97-9a03-83d2a8361d8c",
   "metadata": {},
   "outputs": [],
   "source": [
    "import pandas as pd\n",
    "import glob"
   ]
  },
  {
   "cell_type": "code",
   "execution_count": null,
   "id": "fd321b28-7749-4b68-a2f4-acb556abd53a",
   "metadata": {},
   "outputs": [
    {
     "name": "stdout",
     "output_type": "stream",
     "text": [
      "Combined shape: (45090, 13)\n"
     ]
    }
   ],
   "source": [
    "# Defining path to the cvs files.\n",
    "csv_folder = \"C:\\\\Users\\\\anglo\\\\Project_work\\\\air_quality_thesis\\\\data_raw\\\\calibrated_from_airqo\"\n",
    "csv_files = glob.glob(f\"{csv_folder}/**/*.csv\", recursive = True)\n",
    "\n",
    "# Read and concatenate CSV files into one.\n",
    "df_list = []\n",
    "for file in csv_files:\n",
    "    temp_df = pd.read_csv(file)\n",
    "    df_list.append(temp_df)\n",
    "\n",
    "df = pd.concat(df_list, ignore_index=True)\n",
    "\n",
    "print(\"Combined shape:\", df.shape)"
   ]
  },
  {
   "cell_type": "code",
   "execution_count": 10,
   "id": "54fe47a5",
   "metadata": {},
   "outputs": [],
   "source": [
    "#Convert datetime column to datetime\n",
    "df['datetime']= pd.to_datetime(df['datetime'], errors='coerce')\n",
    "\n",
    "#Sort the dataframe by datetime\n",
    "df = df.sort_values(by='datetime')\n"
   ]
  },
  {
   "cell_type": "code",
   "execution_count": 11,
   "id": "f3807d26",
   "metadata": {},
   "outputs": [
    {
     "name": "stdout",
     "output_type": "stream",
     "text": [
      "Data saved to combined_data.csv\n"
     ]
    }
   ],
   "source": [
    "# Save the combined dataframe to a new CSV file\n",
    "df.to_csv(\"C:\\\\Users\\\\anglo\\\\Project_work\\\\air_quality_thesis\\\\data_processed\\\\combined_data.csv\", index=False)\n",
    "print(\"Data saved to combined_data.csv\")"
   ]
  },
  {
   "cell_type": "markdown",
   "id": "278a5152",
   "metadata": {},
   "source": [
    "All the raw data has been combined into one big csv file. Now we can work on it."
   ]
  }
 ],
 "metadata": {
  "kernelspec": {
   "display_name": "Python 3",
   "language": "python",
   "name": "python3"
  },
  "language_info": {
   "codemirror_mode": {
    "name": "ipython",
    "version": 3
   },
   "file_extension": ".py",
   "mimetype": "text/x-python",
   "name": "python",
   "nbconvert_exporter": "python",
   "pygments_lexer": "ipython3",
   "version": "3.13.5"
  }
 },
 "nbformat": 4,
 "nbformat_minor": 5
}
